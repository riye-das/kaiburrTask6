{
 "cells": [
  {
   "cell_type": "code",
   "execution_count": 1,
   "metadata": {},
   "outputs": [],
   "source": [
    "import os\n",
    "import pandas as pd\n",
    "import numpy as np\n",
    "from scipy.stats import randint\n",
    "import seaborn as sns\n",
    "import matplotlib.pyplot as plt\n",
    "import seaborn as sns\n",
    "from io import StringIO\n",
    "from sklearn.feature_extraction.text import TfidfVectorizer\n",
    "from sklearn.feature_selection import chi2\n",
    "from IPython.display import display\n",
    "from sklearn.model_selection import train_test_split\n",
    "from sklearn.feature_extraction.text import TfidfTransformer\n",
    "from sklearn.naive_bayes import MultinomialNB\n",
    "from sklearn.linear_model import LogisticRegression\n",
    "from sklearn.ensemble import RandomForestClassifier\n",
    "from sklearn.svm import LinearSVC\n",
    "from sklearn.model_selection import cross_val_score\n",
    "from sklearn.metrics import confusion_matrix\n",
    "from sklearn import metrics\n",
    "# from ast import literal_eval"
   ]
  },
  {
   "cell_type": "code",
   "execution_count": 2,
   "metadata": {},
   "outputs": [],
   "source": [
    "data=pd.read_csv('complaints.csv')"
   ]
  },
  {
   "cell_type": "markdown",
   "metadata": {},
   "source": [
    "# Explanatory Data Analysis"
   ]
  },
  {
   "cell_type": "code",
   "execution_count": 3,
   "metadata": {},
   "outputs": [
    {
     "data": {
      "text/html": [
       "<div>\n",
       "<style scoped>\n",
       "    .dataframe tbody tr th:only-of-type {\n",
       "        vertical-align: middle;\n",
       "    }\n",
       "\n",
       "    .dataframe tbody tr th {\n",
       "        vertical-align: top;\n",
       "    }\n",
       "\n",
       "    .dataframe thead th {\n",
       "        text-align: right;\n",
       "    }\n",
       "</style>\n",
       "<table border=\"1\" class=\"dataframe\">\n",
       "  <thead>\n",
       "    <tr style=\"text-align: right;\">\n",
       "      <th></th>\n",
       "      <th>Date received</th>\n",
       "      <th>Product</th>\n",
       "      <th>Sub-product</th>\n",
       "      <th>Issue</th>\n",
       "      <th>Sub-issue</th>\n",
       "      <th>Consumer complaint narrative</th>\n",
       "      <th>Company public response</th>\n",
       "      <th>Company</th>\n",
       "      <th>State</th>\n",
       "      <th>ZIP code</th>\n",
       "      <th>Tags</th>\n",
       "      <th>Consumer consent provided?</th>\n",
       "      <th>Submitted via</th>\n",
       "      <th>Date sent to company</th>\n",
       "      <th>Company response to consumer</th>\n",
       "      <th>Timely response?</th>\n",
       "      <th>Consumer disputed?</th>\n",
       "      <th>Complaint ID</th>\n",
       "    </tr>\n",
       "  </thead>\n",
       "  <tbody>\n",
       "    <tr>\n",
       "      <td>0</td>\n",
       "      <td>2023-08-23</td>\n",
       "      <td>Credit reporting, credit repair services, or o...</td>\n",
       "      <td>Other personal consumer report</td>\n",
       "      <td>Problem with a company's investigation into an...</td>\n",
       "      <td>Problem with personal statement of dispute</td>\n",
       "      <td>NaN</td>\n",
       "      <td>NaN</td>\n",
       "      <td>AMERICAN EXPRESS COMPANY</td>\n",
       "      <td>FL</td>\n",
       "      <td>33147</td>\n",
       "      <td>NaN</td>\n",
       "      <td>NaN</td>\n",
       "      <td>Web</td>\n",
       "      <td>2023-08-23</td>\n",
       "      <td>Closed with explanation</td>\n",
       "      <td>Yes</td>\n",
       "      <td>NaN</td>\n",
       "      <td>7443406</td>\n",
       "    </tr>\n",
       "    <tr>\n",
       "      <td>1</td>\n",
       "      <td>2023-08-23</td>\n",
       "      <td>Credit reporting, credit repair services, or o...</td>\n",
       "      <td>Credit reporting</td>\n",
       "      <td>Incorrect information on your report</td>\n",
       "      <td>Information belongs to someone else</td>\n",
       "      <td>NaN</td>\n",
       "      <td>NaN</td>\n",
       "      <td>Experian Information Solutions Inc.</td>\n",
       "      <td>PA</td>\n",
       "      <td>19061</td>\n",
       "      <td>NaN</td>\n",
       "      <td>NaN</td>\n",
       "      <td>Web</td>\n",
       "      <td>2023-08-23</td>\n",
       "      <td>In progress</td>\n",
       "      <td>Yes</td>\n",
       "      <td>NaN</td>\n",
       "      <td>7443461</td>\n",
       "    </tr>\n",
       "    <tr>\n",
       "      <td>2</td>\n",
       "      <td>2023-08-23</td>\n",
       "      <td>Credit reporting, credit repair services, or o...</td>\n",
       "      <td>Credit reporting</td>\n",
       "      <td>Problem with a credit reporting company's inve...</td>\n",
       "      <td>Their investigation did not fix an error on yo...</td>\n",
       "      <td>NaN</td>\n",
       "      <td>NaN</td>\n",
       "      <td>Experian Information Solutions Inc.</td>\n",
       "      <td>AL</td>\n",
       "      <td>35756</td>\n",
       "      <td>NaN</td>\n",
       "      <td>NaN</td>\n",
       "      <td>Web</td>\n",
       "      <td>2023-08-23</td>\n",
       "      <td>In progress</td>\n",
       "      <td>Yes</td>\n",
       "      <td>NaN</td>\n",
       "      <td>7443505</td>\n",
       "    </tr>\n",
       "    <tr>\n",
       "      <td>3</td>\n",
       "      <td>2023-08-23</td>\n",
       "      <td>Student loan</td>\n",
       "      <td>Federal student loan servicing</td>\n",
       "      <td>Dealing with your lender or servicer</td>\n",
       "      <td>Received bad information about your loan</td>\n",
       "      <td>NaN</td>\n",
       "      <td>NaN</td>\n",
       "      <td>Nelnet, Inc.</td>\n",
       "      <td>GA</td>\n",
       "      <td>30009</td>\n",
       "      <td>NaN</td>\n",
       "      <td>NaN</td>\n",
       "      <td>Web</td>\n",
       "      <td>2023-08-23</td>\n",
       "      <td>Closed with explanation</td>\n",
       "      <td>Yes</td>\n",
       "      <td>NaN</td>\n",
       "      <td>7443381</td>\n",
       "    </tr>\n",
       "    <tr>\n",
       "      <td>4</td>\n",
       "      <td>2023-08-23</td>\n",
       "      <td>Credit reporting, credit repair services, or o...</td>\n",
       "      <td>Credit reporting</td>\n",
       "      <td>Problem with a credit reporting company's inve...</td>\n",
       "      <td>Investigation took more than 30 days</td>\n",
       "      <td>NaN</td>\n",
       "      <td>NaN</td>\n",
       "      <td>Experian Information Solutions Inc.</td>\n",
       "      <td>NC</td>\n",
       "      <td>283XX</td>\n",
       "      <td>NaN</td>\n",
       "      <td>NaN</td>\n",
       "      <td>Web</td>\n",
       "      <td>2023-08-23</td>\n",
       "      <td>In progress</td>\n",
       "      <td>Yes</td>\n",
       "      <td>NaN</td>\n",
       "      <td>7443451</td>\n",
       "    </tr>\n",
       "  </tbody>\n",
       "</table>\n",
       "</div>"
      ],
      "text/plain": [
       "  Date received                                            Product  \\\n",
       "0    2023-08-23  Credit reporting, credit repair services, or o...   \n",
       "1    2023-08-23  Credit reporting, credit repair services, or o...   \n",
       "2    2023-08-23  Credit reporting, credit repair services, or o...   \n",
       "3    2023-08-23                                       Student loan   \n",
       "4    2023-08-23  Credit reporting, credit repair services, or o...   \n",
       "\n",
       "                      Sub-product  \\\n",
       "0  Other personal consumer report   \n",
       "1                Credit reporting   \n",
       "2                Credit reporting   \n",
       "3  Federal student loan servicing   \n",
       "4                Credit reporting   \n",
       "\n",
       "                                               Issue  \\\n",
       "0  Problem with a company's investigation into an...   \n",
       "1               Incorrect information on your report   \n",
       "2  Problem with a credit reporting company's inve...   \n",
       "3               Dealing with your lender or servicer   \n",
       "4  Problem with a credit reporting company's inve...   \n",
       "\n",
       "                                           Sub-issue  \\\n",
       "0         Problem with personal statement of dispute   \n",
       "1                Information belongs to someone else   \n",
       "2  Their investigation did not fix an error on yo...   \n",
       "3           Received bad information about your loan   \n",
       "4               Investigation took more than 30 days   \n",
       "\n",
       "  Consumer complaint narrative Company public response  \\\n",
       "0                          NaN                     NaN   \n",
       "1                          NaN                     NaN   \n",
       "2                          NaN                     NaN   \n",
       "3                          NaN                     NaN   \n",
       "4                          NaN                     NaN   \n",
       "\n",
       "                               Company State ZIP code Tags  \\\n",
       "0             AMERICAN EXPRESS COMPANY    FL    33147  NaN   \n",
       "1  Experian Information Solutions Inc.    PA    19061  NaN   \n",
       "2  Experian Information Solutions Inc.    AL    35756  NaN   \n",
       "3                         Nelnet, Inc.    GA    30009  NaN   \n",
       "4  Experian Information Solutions Inc.    NC    283XX  NaN   \n",
       "\n",
       "  Consumer consent provided? Submitted via Date sent to company  \\\n",
       "0                        NaN           Web           2023-08-23   \n",
       "1                        NaN           Web           2023-08-23   \n",
       "2                        NaN           Web           2023-08-23   \n",
       "3                        NaN           Web           2023-08-23   \n",
       "4                        NaN           Web           2023-08-23   \n",
       "\n",
       "  Company response to consumer Timely response? Consumer disputed?  \\\n",
       "0      Closed with explanation              Yes                NaN   \n",
       "1                  In progress              Yes                NaN   \n",
       "2                  In progress              Yes                NaN   \n",
       "3      Closed with explanation              Yes                NaN   \n",
       "4                  In progress              Yes                NaN   \n",
       "\n",
       "   Complaint ID  \n",
       "0       7443406  \n",
       "1       7443461  \n",
       "2       7443505  \n",
       "3       7443381  \n",
       "4       7443451  "
      ]
     },
     "execution_count": 3,
     "metadata": {},
     "output_type": "execute_result"
    }
   ],
   "source": [
    "data.head()"
   ]
  },
  {
   "cell_type": "code",
   "execution_count": 4,
   "metadata": {},
   "outputs": [
    {
     "data": {
      "text/plain": [
       "(4055791, 18)"
      ]
     },
     "execution_count": 4,
     "metadata": {},
     "output_type": "execute_result"
    }
   ],
   "source": [
    "data.shape"
   ]
  },
  {
   "cell_type": "code",
   "execution_count": 5,
   "metadata": {},
   "outputs": [
    {
     "name": "stdout",
     "output_type": "stream",
     "text": [
      "21\n",
      "['Credit reporting, credit repair services, or other personal consumer reports'\n",
      " 'Student loan' 'Credit reporting or other personal consumer reports'\n",
      " 'Debt collection' 'Credit card or prepaid card'\n",
      " 'Checking or savings account' 'Payday loan, title loan, or personal loan'\n",
      " 'Credit card' 'Mortgage'\n",
      " 'Money transfer, virtual currency, or money service'\n",
      " 'Payday loan, title loan, personal loan, or advance loan'\n",
      " 'Vehicle loan or lease' 'Prepaid card' 'Debt or credit management'\n",
      " 'Payday loan' 'Credit reporting' 'Bank account or service'\n",
      " 'Consumer Loan' 'Money transfers' 'Other financial service'\n",
      " 'Virtual currency']\n"
     ]
    }
   ],
   "source": [
    "a=data.Product.nunique()\n",
    "b=data['Product'].unique()\n",
    "print(a)\n",
    "print(b)"
   ]
  },
  {
   "cell_type": "code",
   "execution_count": 6,
   "metadata": {},
   "outputs": [
    {
     "data": {
      "text/plain": [
       "Credit reporting, credit repair services, or other personal consumer reports    2167406\n",
       "Debt collection                                                                  504775\n",
       "Mortgage                                                                         383618\n",
       "Credit card or prepaid card                                                      206195\n",
       "Checking or savings account                                                      181405\n",
       "Credit reporting                                                                 140429\n",
       "Credit card                                                                       90383\n",
       "Bank account or service                                                           86205\n",
       "Student loan                                                                      76356\n",
       "Money transfer, virtual currency, or money service                                58411\n",
       "Vehicle loan or lease                                                             47344\n",
       "Credit reporting or other personal consumer reports                               35118\n",
       "Consumer Loan                                                                     31575\n",
       "Payday loan, title loan, or personal loan                                         30602\n",
       "Payday loan                                                                        5541\n",
       "Money transfers                                                                    5354\n",
       "Prepaid card                                                                       3871\n",
       "Other financial service                                                            1058\n",
       "Payday loan, title loan, personal loan, or advance loan                              97\n",
       "Debt or credit management                                                            30\n",
       "Virtual currency                                                                     18\n",
       "Name: Product, dtype: int64"
      ]
     },
     "execution_count": 6,
     "metadata": {},
     "output_type": "execute_result"
    }
   ],
   "source": [
    "data.Product.value_counts()"
   ]
  },
  {
   "cell_type": "code",
   "execution_count": 7,
   "metadata": {},
   "outputs": [
    {
     "data": {
      "text/plain": [
       "1245362"
      ]
     },
     "execution_count": 7,
     "metadata": {},
     "output_type": "execute_result"
    }
   ],
   "source": [
    "data['Consumer complaint narrative'].nunique()"
   ]
  },
  {
   "cell_type": "markdown",
   "metadata": {},
   "source": [
    "# Data pre-processing"
   ]
  },
  {
   "cell_type": "code",
   "execution_count": 8,
   "metadata": {},
   "outputs": [],
   "source": [
    "#After selecting best two feature to do the further process"
   ]
  },
  {
   "cell_type": "code",
   "execution_count": 9,
   "metadata": {},
   "outputs": [
    {
     "name": "stdout",
     "output_type": "stream",
     "text": [
      "Shape of data (4055791, 2)\n"
     ]
    }
   ],
   "source": [
    "df=data[['Consumer complaint narrative','Product']]\n",
    "print('Shape of data',df.shape)"
   ]
  },
  {
   "cell_type": "code",
   "execution_count": 10,
   "metadata": {},
   "outputs": [],
   "source": [
    "#Checking any null value is their"
   ]
  },
  {
   "cell_type": "code",
   "execution_count": 11,
   "metadata": {},
   "outputs": [
    {
     "data": {
      "text/plain": [
       "Consumer complaint narrative    2586541\n",
       "Product                               0\n",
       "dtype: int64"
      ]
     },
     "execution_count": 11,
     "metadata": {},
     "output_type": "execute_result"
    }
   ],
   "source": [
    "df.isnull().sum()"
   ]
  },
  {
   "cell_type": "code",
   "execution_count": 12,
   "metadata": {},
   "outputs": [],
   "source": [
    "#Rename the two main coloumn "
   ]
  },
  {
   "cell_type": "code",
   "execution_count": 13,
   "metadata": {},
   "outputs": [],
   "source": [
    "df = df.rename({'Consumer complaint narrative':'complaint', 'Product':'product'},\n",
    "               axis='columns')"
   ]
  },
  {
   "cell_type": "code",
   "execution_count": 14,
   "metadata": {},
   "outputs": [
    {
     "data": {
      "text/html": [
       "<div>\n",
       "<style scoped>\n",
       "    .dataframe tbody tr th:only-of-type {\n",
       "        vertical-align: middle;\n",
       "    }\n",
       "\n",
       "    .dataframe tbody tr th {\n",
       "        vertical-align: top;\n",
       "    }\n",
       "\n",
       "    .dataframe thead th {\n",
       "        text-align: right;\n",
       "    }\n",
       "</style>\n",
       "<table border=\"1\" class=\"dataframe\">\n",
       "  <thead>\n",
       "    <tr style=\"text-align: right;\">\n",
       "      <th></th>\n",
       "      <th>complaint</th>\n",
       "      <th>product</th>\n",
       "    </tr>\n",
       "  </thead>\n",
       "  <tbody>\n",
       "    <tr>\n",
       "      <td>0</td>\n",
       "      <td>NaN</td>\n",
       "      <td>Credit reporting, credit repair services, or o...</td>\n",
       "    </tr>\n",
       "    <tr>\n",
       "      <td>1</td>\n",
       "      <td>NaN</td>\n",
       "      <td>Credit reporting, credit repair services, or o...</td>\n",
       "    </tr>\n",
       "    <tr>\n",
       "      <td>2</td>\n",
       "      <td>NaN</td>\n",
       "      <td>Credit reporting, credit repair services, or o...</td>\n",
       "    </tr>\n",
       "    <tr>\n",
       "      <td>3</td>\n",
       "      <td>NaN</td>\n",
       "      <td>Student loan</td>\n",
       "    </tr>\n",
       "    <tr>\n",
       "      <td>4</td>\n",
       "      <td>NaN</td>\n",
       "      <td>Credit reporting, credit repair services, or o...</td>\n",
       "    </tr>\n",
       "  </tbody>\n",
       "</table>\n",
       "</div>"
      ],
      "text/plain": [
       "  complaint                                            product\n",
       "0       NaN  Credit reporting, credit repair services, or o...\n",
       "1       NaN  Credit reporting, credit repair services, or o...\n",
       "2       NaN  Credit reporting, credit repair services, or o...\n",
       "3       NaN                                       Student loan\n",
       "4       NaN  Credit reporting, credit repair services, or o..."
      ]
     },
     "execution_count": 14,
     "metadata": {},
     "output_type": "execute_result"
    }
   ],
   "source": [
    "df.head()"
   ]
  },
  {
   "cell_type": "code",
   "execution_count": 15,
   "metadata": {},
   "outputs": [],
   "source": [
    "#Removing null values from the complaint"
   ]
  },
  {
   "cell_type": "code",
   "execution_count": 16,
   "metadata": {},
   "outputs": [
    {
     "name": "stdout",
     "output_type": "stream",
     "text": [
      "Removing rows which have been stripped of words after the cleaning process. These contain empty lists:\n",
      "Before:  (4055791, 2)\n",
      "After:  (1469250, 2)\n"
     ]
    }
   ],
   "source": [
    "print(\"Removing rows which have been stripped of words after the cleaning process. These contain empty lists:\")\n",
    "print(\"Before: \", df.shape)\n",
    "df = df[pd.notnull(df['complaint'])]\n",
    "print(\"After: \", df.shape)"
   ]
  },
  {
   "cell_type": "code",
   "execution_count": 17,
   "metadata": {},
   "outputs": [
    {
     "data": {
      "text/plain": [
       "complaint    0\n",
       "product      0\n",
       "dtype: int64"
      ]
     },
     "execution_count": 17,
     "metadata": {},
     "output_type": "execute_result"
    }
   ],
   "source": [
    "df.isnull().sum()"
   ]
  },
  {
   "cell_type": "code",
   "execution_count": 18,
   "metadata": {},
   "outputs": [
    {
     "data": {
      "text/plain": [
       "['Debt collection',\n",
       " 'Credit reporting, credit repair services, or other personal consumer reports',\n",
       " 'Mortgage',\n",
       " 'Vehicle loan or lease',\n",
       " 'Credit card or prepaid card',\n",
       " 'Checking or savings account',\n",
       " 'Credit reporting or other personal consumer reports',\n",
       " 'Money transfer, virtual currency, or money service',\n",
       " 'Credit card',\n",
       " 'Student loan',\n",
       " 'Payday loan, title loan, or personal loan',\n",
       " 'Prepaid card',\n",
       " 'Payday loan, title loan, personal loan, or advance loan',\n",
       " 'Credit reporting',\n",
       " 'Consumer Loan',\n",
       " 'Payday loan',\n",
       " 'Bank account or service',\n",
       " 'Money transfers',\n",
       " 'Other financial service',\n",
       " 'Virtual currency',\n",
       " 'Debt or credit management']"
      ]
     },
     "execution_count": 18,
     "metadata": {},
     "output_type": "execute_result"
    }
   ],
   "source": [
    "a= df['product'].unique()\n",
    "list(a)"
   ]
  },
  {
   "cell_type": "code",
   "execution_count": 19,
   "metadata": {},
   "outputs": [],
   "source": [
    "# Because there is too many record so we do reduce the dataset "
   ]
  },
  {
   "cell_type": "code",
   "execution_count": 20,
   "metadata": {},
   "outputs": [
    {
     "data": {
      "text/plain": [
       "(20000, 2)"
      ]
     },
     "execution_count": 20,
     "metadata": {},
     "output_type": "execute_result"
    }
   ],
   "source": [
    "df2=df.sample(20000,random_state=1).copy()\n",
    "df2.shape"
   ]
  },
  {
   "cell_type": "code",
   "execution_count": 21,
   "metadata": {},
   "outputs": [],
   "source": [
    "#Replace some data to reduce the number of catagories present in product column and choose the fore needed ones"
   ]
  },
  {
   "cell_type": "code",
   "execution_count": 22,
   "metadata": {},
   "outputs": [
    {
     "name": "stdout",
     "output_type": "stream",
     "text": [
      "                                    u\n",
      "0  Credit reporting, repair, or other\n",
      "1                     Debt collection\n",
      "2                       Consumer Loan\n",
      "3                            Mortgage\n"
     ]
    }
   ],
   "source": [
    "df2.replace({'product': \n",
    "             {'Credit reporting, credit repair services, or other personal consumer reports':'Credit reporting, repair, or other', \n",
    "              'Credit reporting':'Credit reporting, repair, or other',\n",
    "              'Credit reporting or other personal consumer reports':'Credit reporting, repair, or other',\n",
    "             'Payday loan': 'Payday loan, title loan, or personal loan',\n",
    "              'Credit card': 'Credit card or prepaid card',\n",
    "              'Prepaid card':'Credit card or prepaid card',\n",
    "              'Payday loan, title loan, personal loan, or advance loan':'Payday loan, title loan, or personal loan',\n",
    "             'Money transfers': 'Money transfer, virtual currency, or money service',\n",
    "             'Virtual currency': 'Money transfer, virtual currency, or money service'}}, \n",
    "            inplace= True)\n",
    "\n",
    "\n",
    "\n",
    "df2 = df2[(df2['product'] == 'Credit reporting, repair, or other') | \\\n",
    "                             (df2['product'] == 'Debt collection') | \\\n",
    "                             (df2['product'] == 'Mortgage') | \\\n",
    "                             (df2['product'] == 'Consumer Loan')\n",
    "                            ]\n",
    "\n",
    "unique_values = ['Credit reporting, repair, or other','Debt collection','Consumer Loan','Mortgage']\n",
    "#data['Product'].unique() \n",
    "unique_df = pd.DataFrame({'u': unique_values})\n",
    "print(unique_df)"
   ]
  },
  {
   "cell_type": "code",
   "execution_count": 23,
   "metadata": {},
   "outputs": [
    {
     "data": {
      "text/plain": [
       "array(['Credit reporting, repair, or other', 'Mortgage',\n",
       "       'Debt collection', 'Consumer Loan'], dtype=object)"
      ]
     },
     "execution_count": 23,
     "metadata": {},
     "output_type": "execute_result"
    }
   ],
   "source": [
    "df2['product'].unique()"
   ]
  },
  {
   "cell_type": "code",
   "execution_count": 24,
   "metadata": {},
   "outputs": [
    {
     "data": {
      "text/html": [
       "<div>\n",
       "<style scoped>\n",
       "    .dataframe tbody tr th:only-of-type {\n",
       "        vertical-align: middle;\n",
       "    }\n",
       "\n",
       "    .dataframe tbody tr th {\n",
       "        vertical-align: top;\n",
       "    }\n",
       "\n",
       "    .dataframe thead th {\n",
       "        text-align: right;\n",
       "    }\n",
       "</style>\n",
       "<table border=\"1\" class=\"dataframe\">\n",
       "  <thead>\n",
       "    <tr style=\"text-align: right;\">\n",
       "      <th></th>\n",
       "      <th>complaint</th>\n",
       "      <th>product</th>\n",
       "    </tr>\n",
       "  </thead>\n",
       "  <tbody>\n",
       "    <tr>\n",
       "      <td>846149</td>\n",
       "      <td>In accordance with the Fair Credit Reporting a...</td>\n",
       "      <td>Credit reporting, repair, or other</td>\n",
       "    </tr>\n",
       "    <tr>\n",
       "      <td>1435165</td>\n",
       "      <td>Foreclosed on by boa after loan modification w...</td>\n",
       "      <td>Mortgage</td>\n",
       "    </tr>\n",
       "    <tr>\n",
       "      <td>326119</td>\n",
       "      <td>This is an on coming issue with Wells Fargo ap...</td>\n",
       "      <td>Mortgage</td>\n",
       "    </tr>\n",
       "    <tr>\n",
       "      <td>1909915</td>\n",
       "      <td>I sent letters to Equifax on XX/XX/2021 regard...</td>\n",
       "      <td>Credit reporting, repair, or other</td>\n",
       "    </tr>\n",
       "    <tr>\n",
       "      <td>113687</td>\n",
       "      <td>On XX/XX/XXXX I sent a complaint via ( CFPB ) ...</td>\n",
       "      <td>Debt collection</td>\n",
       "    </tr>\n",
       "  </tbody>\n",
       "</table>\n",
       "</div>"
      ],
      "text/plain": [
       "                                                 complaint  \\\n",
       "846149   In accordance with the Fair Credit Reporting a...   \n",
       "1435165  Foreclosed on by boa after loan modification w...   \n",
       "326119   This is an on coming issue with Wells Fargo ap...   \n",
       "1909915  I sent letters to Equifax on XX/XX/2021 regard...   \n",
       "113687   On XX/XX/XXXX I sent a complaint via ( CFPB ) ...   \n",
       "\n",
       "                                    product  \n",
       "846149   Credit reporting, repair, or other  \n",
       "1435165                            Mortgage  \n",
       "326119                             Mortgage  \n",
       "1909915  Credit reporting, repair, or other  \n",
       "113687                      Debt collection  "
      ]
     },
     "execution_count": 24,
     "metadata": {},
     "output_type": "execute_result"
    }
   ],
   "source": [
    "df2.head()"
   ]
  },
  {
   "cell_type": "code",
   "execution_count": 25,
   "metadata": {},
   "outputs": [],
   "source": [
    "# Do add new column text Length ,word count and catagory id "
   ]
  },
  {
   "cell_type": "code",
   "execution_count": 26,
   "metadata": {},
   "outputs": [
    {
     "data": {
      "text/html": [
       "<div>\n",
       "<style scoped>\n",
       "    .dataframe tbody tr th:only-of-type {\n",
       "        vertical-align: middle;\n",
       "    }\n",
       "\n",
       "    .dataframe tbody tr th {\n",
       "        vertical-align: top;\n",
       "    }\n",
       "\n",
       "    .dataframe thead th {\n",
       "        text-align: right;\n",
       "    }\n",
       "</style>\n",
       "<table border=\"1\" class=\"dataframe\">\n",
       "  <thead>\n",
       "    <tr style=\"text-align: right;\">\n",
       "      <th></th>\n",
       "      <th>complaint</th>\n",
       "      <th>product</th>\n",
       "      <th>Text_Length</th>\n",
       "      <th>Word_Count</th>\n",
       "      <th>category_id</th>\n",
       "    </tr>\n",
       "  </thead>\n",
       "  <tbody>\n",
       "    <tr>\n",
       "      <td>846149</td>\n",
       "      <td>In accordance with the Fair Credit Reporting a...</td>\n",
       "      <td>Credit reporting, repair, or other</td>\n",
       "      <td>312</td>\n",
       "      <td>56</td>\n",
       "      <td>0</td>\n",
       "    </tr>\n",
       "    <tr>\n",
       "      <td>1435165</td>\n",
       "      <td>Foreclosed on by boa after loan modification w...</td>\n",
       "      <td>Mortgage</td>\n",
       "      <td>973</td>\n",
       "      <td>165</td>\n",
       "      <td>1</td>\n",
       "    </tr>\n",
       "    <tr>\n",
       "      <td>326119</td>\n",
       "      <td>This is an on coming issue with Wells Fargo ap...</td>\n",
       "      <td>Mortgage</td>\n",
       "      <td>3019</td>\n",
       "      <td>528</td>\n",
       "      <td>1</td>\n",
       "    </tr>\n",
       "    <tr>\n",
       "      <td>1909915</td>\n",
       "      <td>I sent letters to Equifax on XX/XX/2021 regard...</td>\n",
       "      <td>Credit reporting, repair, or other</td>\n",
       "      <td>684</td>\n",
       "      <td>115</td>\n",
       "      <td>0</td>\n",
       "    </tr>\n",
       "    <tr>\n",
       "      <td>113687</td>\n",
       "      <td>On XX/XX/XXXX I sent a complaint via ( CFPB ) ...</td>\n",
       "      <td>Debt collection</td>\n",
       "      <td>790</td>\n",
       "      <td>129</td>\n",
       "      <td>2</td>\n",
       "    </tr>\n",
       "  </tbody>\n",
       "</table>\n",
       "</div>"
      ],
      "text/plain": [
       "                                                 complaint  \\\n",
       "846149   In accordance with the Fair Credit Reporting a...   \n",
       "1435165  Foreclosed on by boa after loan modification w...   \n",
       "326119   This is an on coming issue with Wells Fargo ap...   \n",
       "1909915  I sent letters to Equifax on XX/XX/2021 regard...   \n",
       "113687   On XX/XX/XXXX I sent a complaint via ( CFPB ) ...   \n",
       "\n",
       "                                    product  Text_Length  Word_Count  \\\n",
       "846149   Credit reporting, repair, or other          312          56   \n",
       "1435165                            Mortgage          973         165   \n",
       "326119                             Mortgage         3019         528   \n",
       "1909915  Credit reporting, repair, or other          684         115   \n",
       "113687                      Debt collection          790         129   \n",
       "\n",
       "         category_id  \n",
       "846149             0  \n",
       "1435165            1  \n",
       "326119             1  \n",
       "1909915            0  \n",
       "113687             2  "
      ]
     },
     "execution_count": 26,
     "metadata": {},
     "output_type": "execute_result"
    }
   ],
   "source": [
    "df2['Text_Length'] = df2['complaint'].apply(len)\n",
    "df2['Word_Count'] = df2['complaint'].apply(lambda x: len(x.split()))\n",
    "df2['category_id'] = df2['product'].factorize()[0]\n",
    "category_id_df = df2[['product', 'category_id']].drop_duplicates()\n",
    "category_to_id = dict(category_id_df.values)\n",
    "id_to_category = dict(category_id_df[['category_id', 'product']].values)\n",
    "\n",
    "df2.head()"
   ]
  },
  {
   "cell_type": "code",
   "execution_count": 27,
   "metadata": {},
   "outputs": [
    {
     "data": {
      "text/plain": [
       "0    10966\n",
       "1     2938\n",
       "3     1512\n",
       "2      145\n",
       "Name: category_id, dtype: int64"
      ]
     },
     "execution_count": 27,
     "metadata": {},
     "output_type": "execute_result"
    }
   ],
   "source": [
    "\n",
    "maping={0:0,\n",
    "              2:1,\n",
    "              3:2,\n",
    "              1:3,}\n",
    "df2['category_id']=df2['category_id'].map(maping)\n",
    "df2['category_id'].value_counts()"
   ]
  },
  {
   "cell_type": "code",
   "execution_count": 28,
   "metadata": {},
   "outputs": [
    {
     "data": {
      "text/html": [
       "<div>\n",
       "<style scoped>\n",
       "    .dataframe tbody tr th:only-of-type {\n",
       "        vertical-align: middle;\n",
       "    }\n",
       "\n",
       "    .dataframe tbody tr th {\n",
       "        vertical-align: top;\n",
       "    }\n",
       "\n",
       "    .dataframe thead th {\n",
       "        text-align: right;\n",
       "    }\n",
       "</style>\n",
       "<table border=\"1\" class=\"dataframe\">\n",
       "  <thead>\n",
       "    <tr style=\"text-align: right;\">\n",
       "      <th></th>\n",
       "      <th>complaint</th>\n",
       "      <th>product</th>\n",
       "      <th>Text_Length</th>\n",
       "      <th>Word_Count</th>\n",
       "      <th>category_id</th>\n",
       "    </tr>\n",
       "  </thead>\n",
       "  <tbody>\n",
       "    <tr>\n",
       "      <td>846149</td>\n",
       "      <td>In accordance with the Fair Credit Reporting a...</td>\n",
       "      <td>Credit reporting, repair, or other</td>\n",
       "      <td>312</td>\n",
       "      <td>56</td>\n",
       "      <td>0</td>\n",
       "    </tr>\n",
       "    <tr>\n",
       "      <td>1435165</td>\n",
       "      <td>Foreclosed on by boa after loan modification w...</td>\n",
       "      <td>Mortgage</td>\n",
       "      <td>973</td>\n",
       "      <td>165</td>\n",
       "      <td>3</td>\n",
       "    </tr>\n",
       "    <tr>\n",
       "      <td>326119</td>\n",
       "      <td>This is an on coming issue with Wells Fargo ap...</td>\n",
       "      <td>Mortgage</td>\n",
       "      <td>3019</td>\n",
       "      <td>528</td>\n",
       "      <td>3</td>\n",
       "    </tr>\n",
       "    <tr>\n",
       "      <td>1909915</td>\n",
       "      <td>I sent letters to Equifax on XX/XX/2021 regard...</td>\n",
       "      <td>Credit reporting, repair, or other</td>\n",
       "      <td>684</td>\n",
       "      <td>115</td>\n",
       "      <td>0</td>\n",
       "    </tr>\n",
       "    <tr>\n",
       "      <td>113687</td>\n",
       "      <td>On XX/XX/XXXX I sent a complaint via ( CFPB ) ...</td>\n",
       "      <td>Debt collection</td>\n",
       "      <td>790</td>\n",
       "      <td>129</td>\n",
       "      <td>1</td>\n",
       "    </tr>\n",
       "  </tbody>\n",
       "</table>\n",
       "</div>"
      ],
      "text/plain": [
       "                                                 complaint  \\\n",
       "846149   In accordance with the Fair Credit Reporting a...   \n",
       "1435165  Foreclosed on by boa after loan modification w...   \n",
       "326119   This is an on coming issue with Wells Fargo ap...   \n",
       "1909915  I sent letters to Equifax on XX/XX/2021 regard...   \n",
       "113687   On XX/XX/XXXX I sent a complaint via ( CFPB ) ...   \n",
       "\n",
       "                                    product  Text_Length  Word_Count  \\\n",
       "846149   Credit reporting, repair, or other          312          56   \n",
       "1435165                            Mortgage          973         165   \n",
       "326119                             Mortgage         3019         528   \n",
       "1909915  Credit reporting, repair, or other          684         115   \n",
       "113687                      Debt collection          790         129   \n",
       "\n",
       "         category_id  \n",
       "846149             0  \n",
       "1435165            3  \n",
       "326119             3  \n",
       "1909915            0  \n",
       "113687             1  "
      ]
     },
     "execution_count": 28,
     "metadata": {},
     "output_type": "execute_result"
    }
   ],
   "source": [
    "df2.head()"
   ]
  },
  {
   "cell_type": "code",
   "execution_count": 29,
   "metadata": {},
   "outputs": [
    {
     "data": {
      "image/png": "[encoded data removed]",
      "text/plain": [
       "<Figure size 576x432 with 1 Axes>"
      ]
     },
     "metadata": {
      "needs_background": "light"
     },
     "output_type": "display_data"
    }
   ],
   "source": [
    "fig = plt.figure(figsize=(8,6))\n",
    "\n",
    "cmap = plt.get_cmap('plasma')\n",
    "\n",
    "# Define the number of colors needed (number of product categories)\n",
    "num_colors = len(df2['product'].unique())\n",
    "\n",
    "# Create a list of colors from the colormap\n",
    "colors = [cmap(i / num_colors) for i in range(num_colors)]\n",
    "\n",
    "df2.groupby('product').complaint.count().sort_values().plot.barh(\n",
    "    ylim=0, color=colors, title= 'NUMBER OF COMPLAINTS IN EACH PRODUCT CATEGORY')\n",
    "plt.xlabel('OCURRENCES NUMBER/COUNT', fontsize = 10);\n"
   ]
  },
  {
   "cell_type": "code",
   "execution_count": 30,
   "metadata": {},
   "outputs": [
    {
     "data": {
      "text/plain": [
       "Credit reporting, repair, or other    10966\n",
       "Debt collection                        2938\n",
       "Mortgage                               1512\n",
       "Consumer Loan                           145\n",
       "Name: product, dtype: int64"
      ]
     },
     "execution_count": 30,
     "metadata": {},
     "output_type": "execute_result"
    }
   ],
   "source": [
    "df2['product'].value_counts()"
   ]
  },
  {
   "cell_type": "markdown",
   "metadata": {},
   "source": [
    "# Text Pre-processing"
   ]
  },
  {
   "cell_type": "code",
   "execution_count": 31,
   "metadata": {},
   "outputs": [],
   "source": [
    "# FEATURE EXTRACTION USING Term Frequency-Inverse Document Frequency (TFIDF)"
   ]
  },
  {
   "cell_type": "code",
   "execution_count": 32,
   "metadata": {},
   "outputs": [
    {
     "name": "stdout",
     "output_type": "stream",
     "text": [
      "Each of the 15561 complaints is represented by 34223 features (TF-IDF score of unigrams and bigrams)\n"
     ]
    }
   ],
   "source": [
    "tfidf = TfidfVectorizer(sublinear_tf=True, min_df=5,\n",
    "                        ngram_range=(1, 2), \n",
    "                        stop_words='english')\n",
    "\n",
    "# We transform each complaint into a vector\n",
    "# Converting the sparse matrix to a dense one to visualize it by using \".toarray\"\n",
    "\n",
    "features = tfidf.fit_transform(df2.complaint).toarray()\n",
    "labels = df2.category_id\n",
    "print(\"Each of the %d complaints is represented by %d features (TF-IDF score of unigrams and bigrams)\" %(features.shape))"
   ]
  },
  {
   "cell_type": "code",
   "execution_count": 33,
   "metadata": {},
   "outputs": [],
   "source": [
    "#FEATURE SELECTION USING Chi-square test"
   ]
  },
  {
   "cell_type": "code",
   "execution_count": 34,
   "metadata": {},
   "outputs": [
    {
     "name": "stderr",
     "output_type": "stream",
     "text": [
      "C:\\Users\\Riya Das\\Anaconda3\\lib\\site-packages\\sklearn\\utils\\deprecation.py:87: FutureWarning: Function get_feature_names is deprecated; get_feature_names is deprecated in 1.0 and will be removed in 1.2. Please use get_feature_names_out instead.\n",
      "  warnings.warn(msg, category=FutureWarning)\n"
     ]
    },
    {
     "name": "stdout",
     "output_type": "stream",
     "text": [
      "Category: Consumer Loan\n",
      "\n",
      "  * Most Correlated Unigrams are: modifications, mod, close, heloc, bayview, check, trial, applied, america, underwriting, new, refinanced, refund, principle, package, weeks, increased, increase, specialized, estimate, investor, fee, officer, reporting, transferred, hamp, refinancing, hud, analysis, options, approved, application, appraiser, credit, income, value, months, homeowner, report, borrower, deed, loss, chase, pay, select, caliber, told, fees, month, extra, shellpoint, tax, equity, loancare, mitigation, insurance, carrington, process, shortage, forbearance, homeowners, phh, freedom, sps, payoff, fha, ditech, foreclose, bank, mr, monthly, cooper, sls, payment, house, payments, funds, pmi, short, nationstar, principal, lender, rate, refinance, taxes, sale, fargo, servicer, wells, closing, appraisal, ocwen, servicing, foreclosure, property, home, loan, escrow, modification, mortgage\n",
      "\n",
      "  * Most Correlated Bigrams are: modification request, mortgage account, new loan, applied mortgage, loan value, lose home, mortgage assistance, point contact, loan xxxx, mortgage lender, modification process, mortgage services, home foreclosure, payment mortgage, home loan, loan estimate, modification agreement, hazard insurance, home xx, flood insurance, mortgage home, loan xx, foreclosure sale, servicing xxxx, closing costs, real estate, modification loan, payment xxxx, modification xx, fargo home, fha loan, loan sold, fixed rate, escrow payments, caliber home, home equity, new rez, purchased home, monthly payments, modify loan, homeowners insurance, escrow balance, xxxx nationstar, taxes insurance, ocwen loan, mortgage servicing, late fees, mortgage statement, servicing llc, 00 month, 00 escrow, xxxx escrow, loan number, escrow shortage, mortgage servicer, loan transferred, nationstar mortgage, carrington mortgage, credit report, home xxxx, principal balance, save home, mortgage insurance, paid mortgage, escrow analysis, title company, property tax, home loans, specialized loan, home mortgage, mortgage sold, current mortgage, phh mortgage, portfolio servicing, pay mortgage, mortgage xx, closing date, xxxx payment, monthly payment, bank america, mortgage loan, select portfolio, xxxx loan, monthly mortgage, loan officer, loss mitigation, sale date, property taxes, freedom mortgage, short sale, mortgage payments, mr cooper, xxxx mortgage, loan servicing, mortgage xxxx, escrow account, wells fargo, mortgage payment, mortgage company, loan modification\n",
      "\n"
     ]
    },
    {
     "name": "stderr",
     "output_type": "stream",
     "text": [
      "C:\\Users\\Riya Das\\Anaconda3\\lib\\site-packages\\sklearn\\utils\\deprecation.py:87: FutureWarning: Function get_feature_names is deprecated; get_feature_names is deprecated in 1.0 and will be removed in 1.2. Please use get_feature_names_out instead.\n",
      "  warnings.warn(msg, category=FutureWarning)\n"
     ]
    },
    {
     "name": "stdout",
     "output_type": "stream",
     "text": [
      "Category: Credit reporting, repair, or other\n",
      "\n",
      "  * Most Correlated Unigrams are: payoff, attorney, sold, office, voicemail, collections, nationstar, paying, cell, hospital, mr, husband, 611, threatened, medical, trying, month, money, written, bureaus, refinance, monthly, management, paid, act, inquiry, fair, information, principal, harassing, remove, servicer, threatening, portfolio, ocwen, xxxxxxxx, llc, appraisal, taxes, fees, received, rights, closing, rate, bank, fargo, payment, asked, wells, work, house, violated, funds, owed, transunion, stop, sale, instructions, collector, experian, accordance, 604, 602, servicing, insurance, credit, said, recovery, inaccurate, company, furnish, equifax, foreclosure, privacy, inquiries, states, consumer, items, 15, report, called, collection, accounts, phone, owe, calls, calling, property, 1681, home, escrow, told, reporting, section, modification, loan, pay, collect, mortgage, debt\n",
      "\n",
      "  * Most Correlated Bigrams are: person shall, report containing, privacy confidentiality, shall furnish, xxxx equifax, equifax xxxx, regarding debt, balance 00, information relating, list accounts, debt paid, accounts violated, home xxxx, report xxxx, xxxx 2016, freedom mortgage, sale date, victim identity, items information, fraudulent accounts, sections 609, short sale, 609 611, mortgage payments, rights privacy, phone number, debt owe, property taxes, items credit, alleged debt, owe debt, attempt collect, xxxx mortgage, inaccurate information, mr cooper, following items, mortgage xxxx, cell phone, make payment, identity theft, credit bureaus, instructions 15, debt owed, collection company, xxxx called, 15 usc, xxxx told, times day, loan servicing, xxxx received, portfolio recovery, debt xxxx, account xxxx, xxxx balance, received letter, usc 1681, stop calling, xxxxxxxx xxxx, consumer report, xxxx xxxx, collection agency, escrow account, xxxx xxxxxxxx, mortgage company, act xxxx, debt collector, xxxx account, mortgage payment, attempting collect, phone calls, xxxx violated, wells fargo, debt collection, rights 15, trying collect, credit report, violated rights, 604 section, 602 states, states right, section 604, written instructions, account written, privacy 15, section 602, accordance fair, furnish account, agency furnish, right privacy, fair credit, reporting act, credit reporting, loan modification, section states, states consumer, reporting agency, consumer reporting, collect debt, 15 1681, 1681 section\n",
      "\n"
     ]
    },
    {
     "name": "stderr",
     "output_type": "stream",
     "text": [
      "C:\\Users\\Riya Das\\Anaconda3\\lib\\site-packages\\sklearn\\utils\\deprecation.py:87: FutureWarning: Function get_feature_names is deprecated; get_feature_names is deprecated in 1.0 and will be removed in 1.2. Please use get_feature_names_out instead.\n",
      "  warnings.warn(msg, category=FutureWarning)\n"
     ]
    },
    {
     "name": "stdout",
     "output_type": "stream",
     "text": [
      "Category: Debt collection\n",
      "\n",
      "  * Most Correlated Unigrams are: took, registration, check, 2014, month, yes, complicated, demeaning, financial, miles, rip, limits, dime, draft, refund, bank, partially, deaf, dollars, arrange, deduct, payments, dangerous, principle, displaced, wellsfargo, cent, penalized, beg, worth, shady, nfcu, payment, settling, endorsements, chrysler, sorry, honoring, pay, arranged, title, harris, capitol, 2016, manually, calling, finance, cashing, leases, summit, increases, deceived, purchased, warn, ach, white, 2015, storage, automatic, regions, payoff, endorsed, realistic, vin, towing, load, mississippi, bmw, discontinued, repossession, rise, repossessed, auto, cosigned, register, dmv, valued, ally, fee, van, lease, leased, deceive, loan, lemon, gm, westlake, financed, exeter, repo, apr, ford, dealership, dealer, toyota, nissan, santander, surrender, vehicle, car\n",
      "\n",
      "  * Most Correlated Bigrams are: westlake financial, car note, return car, requested company, refund check, worth xxxx, asking cfpb, xxxx financed, timely payments, late fee, did return, xxxx vehicle, report 120, told original, make payment, 120 day, dealership car, car payments, funds available, loan trying, entry credit, got address, signed told, car title, took loan, provided false, advantage people, bank representatives, writing did, letter send, repossessed car, letter telling, paid loan, complaint letter, did close, denied right, account making, refuse acknowledge, payment site, did going, xxxx 2012, finance xxxx, payment payments, said told, called later, vin xxxx, consumer usa, pay car, send monthly, information advised, payments vehicle, car xx, credit department, asking payment, company took, paid continue, late making, car dealer, purchase vehicle, loan pay, xxxx miles, payments wanted, payment 500, report offer, dealer services, 00 car, run xxxx, bank pay, end lease, vehicle loan, ca pay, bank letter, santander consumer, score believe, purchased vehicle, xxxx car, title lien, bank took, husband work, xxxx dealer, simple loan, xxxx toyota, auto loan, purchased car, gave authorization, dealer xxxx, returned car, exeter finance, returned vehicle, called month, car xxxx, calling everyday, payoff xxxx, contact work, payments car, loan santander, toyota financial, vehicle xxxx, payment car, calling job\n",
      "\n"
     ]
    },
    {
     "name": "stderr",
     "output_type": "stream",
     "text": [
      "C:\\Users\\Riya Das\\Anaconda3\\lib\\site-packages\\sklearn\\utils\\deprecation.py:87: FutureWarning: Function get_feature_names is deprecated; get_feature_names is deprecated in 1.0 and will be removed in 1.2. Please use get_feature_names_out instead.\n",
      "  warnings.warn(msg, category=FutureWarning)\n"
     ]
    },
    {
     "name": "stdout",
     "output_type": "stream",
     "text": [
      "Category: Mortgage\n",
      "\n",
      "  * Most Correlated Unigrams are: voice, funding, scam, rights, collectors, commonwealth, office, trying, threaten, client, violated, enhanced, repeated, parents, alleged, asked, judgement, credence, firm, bills, garnish, wages, lvnv, xxxxxxxx, report, inquiry, debit, solutions, attempting, rude, fdcpa, harassed, late, hung, contract, transworld, transunion, caller, afni, received, communication, garnishment, said, harass, harassment, accordance, mortgage, experian, instructions, told, served, collecting, 602, inaccurate, 604, desist, erc, furnish, consumer, voicemail, privacy, debts, equifax, cease, llc, pay, 15, associates, inquiries, accounts, states, reporting, threatened, items, portfolio, threatening, management, cell, called, midland, stop, systems, 1681, harassing, section, medical, hospital, validation, company, owed, collections, phone, calls, collector, calling, recovery, owe, collect, collection, debt\n",
      "\n",
      "  * Most Correlated Bigrams are: usc 1681, years ago, verify debt, stating owe, commonwealth financial, iq data, hunter warfield, debt told, associates llc, debt belongs, different numbers, law firm, said debt, xxxxxxxx xxxx, new collection, national credit, xxxx hospital, validate debt, recovery solutions, sent debt, debt received, collection practices, xxxx xxxxxxxx, debt collections, act xxxx, enhanced recovery, paid debt, medical debt, midland funding, credit management, information debt, debt does, xxxx violated, received letter, owed debt, saying owe, debt did, fair debt, calls day, received collection, sent collections, credit reporting, debt sent, verification debt, validation debt, midland credit, rights 15, debt company, proof debt, fair credit, violated rights, pay debt, reporting act, credit systems, 602 states, owe money, states right, 604 section, account written, section 602, section 604, written instructions, privacy 15, furnish account, accordance fair, agency furnish, right privacy, times day, cease desist, debt credit, recovery associates, collection letter, phone calls, phone number, debt validation, states consumer, section states, reporting agency, debt paid, consumer reporting, regarding debt, cell phone, attempt collect, xxxx debt, 15 1681, debt owe, owe debt, 1681 section, debt owed, alleged debt, collection company, stop calling, portfolio recovery, debt xxxx, attempting collect, debt collector, collection agency, trying collect, debt collection, collect debt\n",
      "\n"
     ]
    }
   ],
   "source": [
    "from sklearn.feature_selection import SelectKBest, chi2\n",
    "\n",
    "# Create a SelectKBest object\n",
    "\n",
    "n_features = 100\n",
    "ch2 = SelectKBest(chi2, k=n_features)\n",
    "\n",
    "# Iterate through each product category\n",
    "for product, category_id in sorted(category_to_id.items()):\n",
    "    \n",
    "    # Calculate chi-squared statistics for the features of this category\n",
    "    \n",
    "    features_chi2 = chi2(features, labels == category_id)\n",
    "    indices = np.argsort(features_chi2[0])\n",
    "    feature_names = np.array(tfidf.get_feature_names())[indices]\n",
    "    \n",
    "    # Extract the most correlated unigrams and bigrams\n",
    "    \n",
    "    unigrams = [v for v in feature_names if len(v.split(' ')) == 1]\n",
    "    bigrams = [v for v in feature_names if len(v.split(' ')) == 2]\n",
    "    \n",
    "    # Select the top 'n_features' features using SelectKBest\n",
    "    \n",
    "    # X_train_sp = ch2.fit_transform(features, labels == category_id)\n",
    "    \n",
    "    print(\"Category: %s\" % (product))\n",
    "    print( )\n",
    "    print(\"  * Most Correlated Unigrams are: %s\" % (', '.join(unigrams[-n_features:])))\n",
    "    print( )\n",
    "    print(\"  * Most Correlated Bigrams are: %s\" % (', '.join(bigrams[-n_features:])))\n",
    "    print()\n"
   ]
  },
  {
   "cell_type": "markdown",
   "metadata": {},
   "source": [
    "# Train and test data splite"
   ]
  },
  {
   "cell_type": "code",
   "execution_count": 35,
   "metadata": {},
   "outputs": [],
   "source": [
    "X = df2['complaint'] \n",
    "y = df2['product'] \n",
    "X_train, X_test, y_train, y_test = train_test_split(X, y, \n",
    "                                                    test_size=0.20,\n",
    "                                                    random_state = 0)"
   ]
  },
  {
   "cell_type": "code",
   "execution_count": 36,
   "metadata": {},
   "outputs": [],
   "source": [
    "# DO FIND THE GOOD MODEL BY USING CROSS VALIDATION"
   ]
  },
  {
   "cell_type": "code",
   "execution_count": 37,
   "metadata": {},
   "outputs": [
    {
     "name": "stdout",
     "output_type": "stream",
     "text": [
      "Model: RandomForestClassifier, Mean Accuracy: 0.7048390240115875\n",
      "Model: LinearSVC, Mean Accuracy: 0.9088749022467354\n",
      "Model: MultinomialNB, Mean Accuracy: 0.8822060981521226\n"
     ]
    },
    {
     "name": "stderr",
     "output_type": "stream",
     "text": [
      "C:\\Users\\Riya Das\\Anaconda3\\lib\\site-packages\\sklearn\\linear_model\\_logistic.py:818: ConvergenceWarning: lbfgs failed to converge (status=1):\n",
      "STOP: TOTAL NO. of ITERATIONS REACHED LIMIT.\n",
      "\n",
      "Increase the number of iterations (max_iter) or scale the data as shown in:\n",
      "    https://scikit-learn.org/stable/modules/preprocessing.html\n",
      "Please also refer to the documentation for alternative solver options:\n",
      "    https://scikit-learn.org/stable/modules/linear_model.html#logistic-regression\n",
      "  extra_warning_msg=_LOGISTIC_SOLVER_CONVERGENCE_MSG,\n",
      "C:\\Users\\Riya Das\\Anaconda3\\lib\\site-packages\\sklearn\\linear_model\\_logistic.py:818: ConvergenceWarning: lbfgs failed to converge (status=1):\n",
      "STOP: TOTAL NO. of ITERATIONS REACHED LIMIT.\n",
      "\n",
      "Increase the number of iterations (max_iter) or scale the data as shown in:\n",
      "    https://scikit-learn.org/stable/modules/preprocessing.html\n",
      "Please also refer to the documentation for alternative solver options:\n",
      "    https://scikit-learn.org/stable/modules/linear_model.html#logistic-regression\n",
      "  extra_warning_msg=_LOGISTIC_SOLVER_CONVERGENCE_MSG,\n"
     ]
    },
    {
     "name": "stdout",
     "output_type": "stream",
     "text": [
      "Model: LogisticRegression, Mean Accuracy: 0.9050837065230226\n"
     ]
    }
   ],
   "source": [
    "models = [\n",
    "    RandomForestClassifier(n_estimators=100, max_depth=5, random_state=0),\n",
    "    LinearSVC(),\n",
    "    MultinomialNB(),\n",
    "    LogisticRegression(random_state=0,multi_class='auto',solver='lbfgs'),\n",
    "]\n",
    "from joblib import Parallel, delayed\n",
    "\n",
    "def train_and_evaluate(model, features, labels):\n",
    "    model_name = model.__class__.__name__\n",
    "    accuracy = cross_val_score(model, features, labels, scoring='accuracy', cv=5)\n",
    "    print(f\"Model: {model_name}, Mean Accuracy: {accuracy.mean()}\")\n",
    "\n",
    "\n",
    "for model in models:\n",
    "    train_and_evaluate(model, features, labels)\n",
    "    del model\n"
   ]
  },
  {
   "cell_type": "code",
   "execution_count": 38,
   "metadata": {},
   "outputs": [
    {
     "name": "stdout",
     "output_type": "stream",
     "text": [
      "                           Model_Name  MEAN_ACCURACY\n",
      "0                          LINEAR-SVC       0.908939\n",
      "1                 LOGISTIC REGRESSION       0.904891\n",
      "2  MultinomialMULTINOMIAL NAIVE BAYES       0.882142\n",
      "3             RANDOMFOREST CLASSIFIER       0.704839\n"
     ]
    }
   ],
   "source": [
    "Eval = {'Model_Name': ['LINEAR-SVC','LOGISTIC REGRESSION','MultinomialMULTINOMIAL NAIVE BAYES','RANDOMFOREST CLASSIFIER',],\n",
    "'MEAN_ACCURACY': [0.9089390343063473,0.9048909129049975,0.8821422907712438,0.7048390906827228]\n",
    "       }\n",
    "Eval_model = pd.DataFrame(Eval)\n",
    "print(Eval_model)"
   ]
  },
  {
   "cell_type": "code",
   "execution_count": 39,
   "metadata": {},
   "outputs": [],
   "source": [
    "# SO FROM ABOVE WE CAN PREDICT THAT Linear Support Vector Machine WORKS THE BEST FOR MY DATASET SO DO THE FEARTHER PROCESS BY USING THIS MODEL"
   ]
  },
  {
   "cell_type": "code",
   "execution_count": 40,
   "metadata": {},
   "outputs": [
    {
     "data": {
      "image/png": "[encoded data removed]",
      "text/plain": [
       "<Figure size 576x360 with 1 Axes>"
      ]
     },
     "metadata": {
      "needs_background": "light"
     },
     "output_type": "display_data"
    }
   ],
   "source": [
    "plt.figure(figsize=(8, 5))\n",
    "color2=[\"LightPink\",\"SkyBlue\",\"DarkBlue\",\"DarkGreen\"]\n",
    "sns.barplot(x='Model_Name', y='MEAN_ACCURACY', \n",
    "            data=Eval_model, \n",
    "            palette=color2)\n",
    "plt.title(\"BAR PLOT OF MEAN ACCURACY\", size=14)\n",
    "plt.xticks(rotation=45)\n",
    "plt.show()"
   ]
  },
  {
   "cell_type": "markdown",
   "metadata": {},
   "source": [
    "# Evaluation of Text Classification Model"
   ]
  },
  {
   "cell_type": "code",
   "execution_count": 41,
   "metadata": {},
   "outputs": [],
   "source": [
    "# Now We are fitting the best model in our new test data set based on feature and lavels"
   ]
  },
  {
   "cell_type": "code",
   "execution_count": 42,
   "metadata": {},
   "outputs": [
    {
     "name": "stdout",
     "output_type": "stream",
     "text": [
      "The accuracy of the Linear Support Vector Machine is:  0.9007388371345969\n"
     ]
    }
   ],
   "source": [
    "X_train, X_test, y_train, y_test,indices_train,indices_test = train_test_split(features, \n",
    "                                                               labels, \n",
    "                                                               df2.index, test_size=0.20, \n",
    "                                                               random_state=1)\n",
    "model = LinearSVC()\n",
    "model.fit(X_train, y_train)\n",
    "y_pred = model.predict(X_test)\n",
    "print('The accuracy of the Linear Support Vector Machine is: ', metrics.accuracy_score(y_pred,y_test))"
   ]
  },
  {
   "cell_type": "code",
   "execution_count": 43,
   "metadata": {},
   "outputs": [
    {
     "data": {
      "image/png": "[encoded data removed]",
      "text/plain": [
       "<Figure size 432x288 with 1 Axes>"
      ]
     },
     "metadata": {
      "needs_background": "light"
     },
     "output_type": "display_data"
    }
   ],
   "source": [
    "plt.scatter(y_test, y_pred)\n",
    "plt.xlabel('Actual Price')\n",
    "plt.ylabel('Predicted Price')\n",
    "plt.title('Actual Price vs Predicted Price')\n",
    "plt.show()"
   ]
  },
  {
   "cell_type": "code",
   "execution_count": 44,
   "metadata": {},
   "outputs": [
    {
     "data": {
      "image/png": "[encoded data removed]",
      "text/plain": [
       "<Figure size 432x288 with 1 Axes>"
      ]
     },
     "metadata": {
      "needs_background": "light"
     },
     "output_type": "display_data"
    }
   ],
   "source": [
    "plt.hist(y_test, bins=10, alpha=0.5, label='Actual Price')\n",
    "plt.hist(y_pred, bins=10, alpha=0.5, label='Predicted Price')\n",
    "plt.xlabel('complain')\n",
    "plt.ylabel('Product complain Frequency')\n",
    "plt.title('Distribution of Actual Price and Predicted Price')\n",
    "plt.legend()\n",
    "plt.show()"
   ]
  },
  {
   "cell_type": "code",
   "execution_count": 45,
   "metadata": {},
   "outputs": [],
   "source": [
    "# Show Classification Report"
   ]
  },
  {
   "cell_type": "code",
   "execution_count": 46,
   "metadata": {},
   "outputs": [
    {
     "name": "stdout",
     "output_type": "stream",
     "text": [
      "CLASSIFICATIION METRICS\n",
      "                                    precision    recall  f1-score   support\n",
      "\n",
      "Credit reporting, repair, or other       0.92      0.96      0.94      2193\n",
      "                          Mortgage       0.81      0.74      0.78       596\n",
      "                   Debt collection       0.50      0.03      0.06        32\n",
      "                     Consumer Loan       0.90      0.89      0.89       292\n",
      "\n",
      "                          accuracy                           0.90      3113\n",
      "                         macro avg       0.78      0.66      0.67      3113\n",
      "                      weighted avg       0.89      0.90      0.90      3113\n",
      "\n"
     ]
    }
   ],
   "source": [
    "print('CLASSIFICATIION METRICS')\n",
    "print(metrics.classification_report(y_test, y_pred, \n",
    "                                    target_names= df2['product'].unique()))"
   ]
  },
  {
   "cell_type": "code",
   "execution_count": 47,
   "metadata": {},
   "outputs": [],
   "source": [
    "# Confusion Matric"
   ]
  },
  {
   "cell_type": "code",
   "execution_count": 48,
   "metadata": {},
   "outputs": [
    {
     "name": "stdout",
     "output_type": "stream",
     "text": [
      "[[2100   81    0   12]\n",
      " [ 142  444    1    9]\n",
      " [  15    7    1    9]\n",
      " [  18   15    0  259]]\n"
     ]
    },
    {
     "data": {
      "image/png": "[encoded data removed]",
      "text/plain": [
       "<Figure size 648x576 with 2 Axes>"
      ]
     },
     "metadata": {
      "needs_background": "light"
     },
     "output_type": "display_data"
    }
   ],
   "source": [
    "from sklearn.metrics import confusion_matrix\n",
    "conf_mat = confusion_matrix(y_test, y_pred)\n",
    "fig, ax = plt.subplots(figsize=(9,8))\n",
    "sns.heatmap(conf_mat, annot=True, cmap=\"Reds\", fmt='d',\n",
    "            xticklabels=category_id_df['product'].values, \n",
    "            yticklabels=category_id_df['product'].values)\n",
    "\n",
    "# ax.set_xlabel('Predicted labels',size=15)\n",
    "# ax.set_ylabel('Actual labels',size=15)\n",
    "# ax.set_title(\"CONFUSION MATRIX - LinearSVCn\", size=20);\n",
    "\n",
    "print(conf_mat)\n",
    "\n",
    "# cm_display = metrics.ConfusionMatrixDisplay(confusion_matrix = conf_mat, display_labels = ['Credit reporting, repair, or other', 'Mortgage',\n",
    "#        'Debt collection', 'Consumer Loan'])\n",
    "# cm_display.plot()\n",
    "\n",
    "plt.ylabel('Actual')\n",
    "plt.xlabel('Predicted')\n",
    "plt.title(\"CONFUSION MATRIX - LinearSVCn\", size=16);"
   ]
  },
  {
   "cell_type": "markdown",
   "metadata": {},
   "source": [
    "#  PREDICTION"
   ]
  },
  {
   "cell_type": "code",
   "execution_count": 49,
   "metadata": {},
   "outputs": [
    {
     "name": "stdout",
     "output_type": "stream",
     "text": [
      "['Debt collection']\n"
     ]
    }
   ],
   "source": [
    "X_train, X_test, y_train, y_test = train_test_split(X, y, \n",
    "                                                    test_size=0.20,\n",
    "                                                    random_state = 0)\n",
    "tfidf = TfidfVectorizer(sublinear_tf=True, min_df=5,\n",
    "                        ngram_range=(1, 2), \n",
    "                        stop_words='english')\n",
    "fitted_vectorizer = tfidf.fit(X_train)\n",
    "\n",
    "tfidf_vectorizer_vectors = fitted_vectorizer.transform(X_train)\n",
    "\n",
    "model3 = LinearSVC().fit(tfidf_vectorizer_vectors, y_train)\n",
    "\n",
    "complaint = \"\"\"I have received over 27 emails from XXXX XXXX who is a representative from Midland Funding LLC. \n",
    "From XX/XX/XXXX I received approximately 6 emails. From XX/XX/XXXX I received approximately 6 emails. \n",
    "From XX/XX/XXXX I received approximately 9 emails. From XX/XX/XXXX I received approximately 6 emails. \n",
    "All emails came from the same individual, XXXX XXXX. It is becoming a nonstop issue of harassment.\"\"\"\n",
    "\n",
    "print(model3.predict(fitted_vectorizer.transform([complaint])))"
   ]
  },
  {
   "cell_type": "code",
   "execution_count": null,
   "metadata": {},
   "outputs": [],
   "source": []
  },
  {
   "cell_type": "code",
   "execution_count": null,
   "metadata": {},
   "outputs": [],
   "source": []
  }
 ],
 "metadata": {
  "kernelspec": {
   "display_name": "Python 3",
   "language": "python",
   "name": "python3"
  },
  "language_info": {
   "codemirror_mode": {
    "name": "ipython",
    "version": 3
   },
   "file_extension": ".py",
   "mimetype": "text/x-python",
   "name": "python",
   "nbconvert_exporter": "python",
   "pygments_lexer": "ipython3",
   "version": "3.7.4"
  }
 },
 "nbformat": 4,
 "nbformat_minor": 2
}
